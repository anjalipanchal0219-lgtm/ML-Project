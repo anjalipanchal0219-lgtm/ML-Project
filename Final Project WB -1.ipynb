{
 "cells": [
  {
   "cell_type": "markdown",
   "id": "ca18dedc",
   "metadata": {},
   "source": [
    "Final Project "
   ]
  },
  {
   "cell_type": "markdown",
   "id": "318cdce4",
   "metadata": {},
   "source": [
    "Data - World Development Indicators (WDI) collection from the World Bank, which contains economic, social, and environmental indicators for every country from 1960–2024.\n",
    "\n"
   ]
  },
  {
   "cell_type": "markdown",
   "id": "a3f80818",
   "metadata": {},
   "source": [
    "Problem Statement : \n",
    "\n",
    "Does economic growth necessarily lead to higher carbon emissions, or have developed nations succeeded in decoupling growth from environmental impact?\n",
    "\n",
    "Goal:\n",
    "\n",
    "Analyze the relationship between GDP growth and CO2 emissions across countries.\n",
    "\n",
    "Identify patterns showing whether wealthier nations emit less CO2 per unit of economic output compared to developing economies.\n",
    "\n",
    "Predict future emission trends based on GDP growth using a machine learning model.\n",
    "\n",
    "Provide insights that can guide sustainable economic policies for developing countries."
   ]
  },
  {
   "cell_type": "markdown",
   "id": "9d2c4dfe",
   "metadata": {},
   "source": [
    "Phase 1"
   ]
  },
  {
   "cell_type": "markdown",
   "id": "c947d005",
   "metadata": {},
   "source": [
    "Use World Bank API to fetch data\n",
    "Use the World Bank Data API to fetch real-time data on CO2 emissions, GDP per capita, energy use, and population. Combine and clean data using Pandas and NumPy for structured analysis."
   ]
  },
  {
   "cell_type": "code",
   "execution_count": 56,
   "id": "891f590b",
   "metadata": {},
   "outputs": [
    {
     "name": "stdout",
     "output_type": "stream",
     "text": [
      "Requirement already satisfied: wbgapi in c:\\users\\anjal\\appdata\\local\\packages\\pythonsoftwarefoundation.python.3.11_qbz5n2kfra8p0\\localcache\\local-packages\\python311\\site-packages (1.0.12)\n",
      "Requirement already satisfied: pandas in c:\\users\\anjal\\appdata\\local\\packages\\pythonsoftwarefoundation.python.3.11_qbz5n2kfra8p0\\localcache\\local-packages\\python311\\site-packages (2.3.3)\n",
      "Requirement already satisfied: requests in c:\\users\\anjal\\appdata\\local\\packages\\pythonsoftwarefoundation.python.3.11_qbz5n2kfra8p0\\localcache\\local-packages\\python311\\site-packages (from wbgapi) (2.32.5)\n",
      "Requirement already satisfied: PyYAML in c:\\users\\anjal\\appdata\\local\\packages\\pythonsoftwarefoundation.python.3.11_qbz5n2kfra8p0\\localcache\\local-packages\\python311\\site-packages (from wbgapi) (6.0.3)\n",
      "Requirement already satisfied: tabulate in c:\\users\\anjal\\appdata\\local\\packages\\pythonsoftwarefoundation.python.3.11_qbz5n2kfra8p0\\localcache\\local-packages\\python311\\site-packages (from wbgapi) (0.9.0)\n",
      "Requirement already satisfied: numpy>=1.23.2 in c:\\users\\anjal\\appdata\\local\\packages\\pythonsoftwarefoundation.python.3.11_qbz5n2kfra8p0\\localcache\\local-packages\\python311\\site-packages (from pandas) (2.3.4)\n",
      "Requirement already satisfied: python-dateutil>=2.8.2 in c:\\users\\anjal\\appdata\\local\\packages\\pythonsoftwarefoundation.python.3.11_qbz5n2kfra8p0\\localcache\\local-packages\\python311\\site-packages (from pandas) (2.9.0.post0)\n",
      "Requirement already satisfied: pytz>=2020.1 in c:\\users\\anjal\\appdata\\local\\packages\\pythonsoftwarefoundation.python.3.11_qbz5n2kfra8p0\\localcache\\local-packages\\python311\\site-packages (from pandas) (2025.2)\n",
      "Requirement already satisfied: tzdata>=2022.7 in c:\\users\\anjal\\appdata\\local\\packages\\pythonsoftwarefoundation.python.3.11_qbz5n2kfra8p0\\localcache\\local-packages\\python311\\site-packages (from pandas) (2025.2)\n",
      "Requirement already satisfied: six>=1.5 in c:\\users\\anjal\\appdata\\local\\packages\\pythonsoftwarefoundation.python.3.11_qbz5n2kfra8p0\\localcache\\local-packages\\python311\\site-packages (from python-dateutil>=2.8.2->pandas) (1.17.0)\n",
      "Requirement already satisfied: charset_normalizer<4,>=2 in c:\\users\\anjal\\appdata\\local\\packages\\pythonsoftwarefoundation.python.3.11_qbz5n2kfra8p0\\localcache\\local-packages\\python311\\site-packages (from requests->wbgapi) (3.4.4)\n",
      "Requirement already satisfied: idna<4,>=2.5 in c:\\users\\anjal\\appdata\\local\\packages\\pythonsoftwarefoundation.python.3.11_qbz5n2kfra8p0\\localcache\\local-packages\\python311\\site-packages (from requests->wbgapi) (3.11)\n",
      "Requirement already satisfied: urllib3<3,>=1.21.1 in c:\\users\\anjal\\appdata\\local\\packages\\pythonsoftwarefoundation.python.3.11_qbz5n2kfra8p0\\localcache\\local-packages\\python311\\site-packages (from requests->wbgapi) (2.5.0)\n",
      "Requirement already satisfied: certifi>=2017.4.17 in c:\\users\\anjal\\appdata\\local\\packages\\pythonsoftwarefoundation.python.3.11_qbz5n2kfra8p0\\localcache\\local-packages\\python311\\site-packages (from requests->wbgapi) (2025.10.5)\n"
     ]
    }
   ],
   "source": [
    "!pip install wbgapi pandas"
   ]
  },
  {
   "cell_type": "code",
   "execution_count": 2,
   "id": "2e43fe51",
   "metadata": {},
   "outputs": [],
   "source": [
    "import wbgapi as wb\n",
    "import pandas as pd\n",
    "import numpy as np\n",
    "import warnings"
   ]
  },
  {
   "cell_type": "code",
   "execution_count": 38,
   "id": "ac1f231e",
   "metadata": {},
   "outputs": [],
   "source": [
    "indicators = {\n",
    "    'EN.ATM.CO2E.PC': 'CO2_emissions_per_capita',  # CO2 emissions (metric tons per capita)\n",
    "    'NY.GDP.PCAP.CD': 'GDP_per_capita_USD',        # GDP per capita (current US$)\n",
    "    'EG.USE.PCAP.KG.OE': 'Energy_use_per_capita',  # energy use (kg of oil equivalent per capita)\n",
    "    'SP.POP.TOTL': 'Population'                    # population, total\n",
    "}"
   ]
  },
  {
   "cell_type": "code",
   "execution_count": 39,
   "id": "e556aade",
   "metadata": {},
   "outputs": [],
   "source": [
    "countries = 'all'\n",
    "time_range = range(1960, 2025)"
   ]
  },
  {
   "cell_type": "code",
   "execution_count": 42,
   "id": "6d44dcd4",
   "metadata": {},
   "outputs": [
    {
     "name": "stdout",
     "output_type": "stream",
     "text": [
      "\n",
      "Data fetched successfully.\n"
     ]
    }
   ],
   "source": [
    "df_raw = wb.data.DataFrame(\n",
    "        indicators.keys(),\n",
    "        economy=countries,\n",
    "        time=time_range,\n",
    "        skipAggs=True, # exclude regional/income aggregates, keep only actual countries\n",
    "        labels=True    # include labels for country and time\n",
    "    )\n",
    "    \n",
    "print(\"\\nData fetched successfully.\")"
   ]
  },
  {
   "cell_type": "markdown",
   "id": "fc626695",
   "metadata": {},
   "source": [
    "Load and Clean Data\n",
    "\n",
    "Filter relevant indicators and countries.\n",
    "\n",
    "Handle missing or NaN values.\n",
    "\n",
    "Convert year columns to long format."
   ]
  },
  {
   "cell_type": "code",
   "execution_count": 43,
   "id": "f756356d",
   "metadata": {},
   "outputs": [],
   "source": [
    "df_raw = df_raw.rename(columns=indicators)"
   ]
  },
  {
   "cell_type": "code",
   "execution_count": 44,
   "id": "1cec3bd2",
   "metadata": {},
   "outputs": [
    {
     "name": "stdout",
     "output_type": "stream",
     "text": [
      "['economy', 'series', 'Country', 'Series', 'YR1960', 'YR1961', 'YR1962', 'YR1963', 'YR1964', 'YR1965', 'YR1966', 'YR1967', 'YR1968', 'YR1969', 'YR1970', 'YR1971', 'YR1972', 'YR1973', 'YR1974', 'YR1975', 'YR1976', 'YR1977', 'YR1978', 'YR1979', 'YR1980', 'YR1981', 'YR1982', 'YR1983', 'YR1984', 'YR1985', 'YR1986', 'YR1987', 'YR1988', 'YR1989', 'YR1990', 'YR1991', 'YR1992', 'YR1993', 'YR1994', 'YR1995', 'YR1996', 'YR1997', 'YR1998', 'YR1999', 'YR2000', 'YR2001', 'YR2002', 'YR2003', 'YR2004', 'YR2005', 'YR2006', 'YR2007', 'YR2008', 'YR2009', 'YR2010', 'YR2011', 'YR2012', 'YR2013', 'YR2014', 'YR2015', 'YR2016', 'YR2017', 'YR2018', 'YR2019', 'YR2020', 'YR2021', 'YR2022', 'YR2023', 'YR2024']\n"
     ]
    }
   ],
   "source": [
    "df_cleaned = df_raw.reset_index()\n",
    "\n",
    "# see the column names of the new df\n",
    "print(df_cleaned.columns.tolist())"
   ]
  },
  {
   "cell_type": "code",
   "execution_count": 45,
   "id": "3c680fc5",
   "metadata": {},
   "outputs": [
    {
     "name": "stdout",
     "output_type": "stream",
     "text": [
      "\n",
      "Raw Data first 5 Rows\n"
     ]
    },
    {
     "data": {
      "text/html": [
       "<div>\n",
       "<style scoped>\n",
       "    .dataframe tbody tr th:only-of-type {\n",
       "        vertical-align: middle;\n",
       "    }\n",
       "\n",
       "    .dataframe tbody tr th {\n",
       "        vertical-align: top;\n",
       "    }\n",
       "\n",
       "    .dataframe thead th {\n",
       "        text-align: right;\n",
       "    }\n",
       "</style>\n",
       "<table border=\"1\" class=\"dataframe\">\n",
       "  <thead>\n",
       "    <tr style=\"text-align: right;\">\n",
       "      <th></th>\n",
       "      <th></th>\n",
       "      <th>Country</th>\n",
       "      <th>Series</th>\n",
       "      <th>YR1960</th>\n",
       "      <th>YR1961</th>\n",
       "      <th>YR1962</th>\n",
       "      <th>YR1963</th>\n",
       "      <th>YR1964</th>\n",
       "      <th>YR1965</th>\n",
       "      <th>YR1966</th>\n",
       "      <th>YR1967</th>\n",
       "      <th>...</th>\n",
       "      <th>YR2015</th>\n",
       "      <th>YR2016</th>\n",
       "      <th>YR2017</th>\n",
       "      <th>YR2018</th>\n",
       "      <th>YR2019</th>\n",
       "      <th>YR2020</th>\n",
       "      <th>YR2021</th>\n",
       "      <th>YR2022</th>\n",
       "      <th>YR2023</th>\n",
       "      <th>YR2024</th>\n",
       "    </tr>\n",
       "    <tr>\n",
       "      <th>economy</th>\n",
       "      <th>series</th>\n",
       "      <th></th>\n",
       "      <th></th>\n",
       "      <th></th>\n",
       "      <th></th>\n",
       "      <th></th>\n",
       "      <th></th>\n",
       "      <th></th>\n",
       "      <th></th>\n",
       "      <th></th>\n",
       "      <th></th>\n",
       "      <th></th>\n",
       "      <th></th>\n",
       "      <th></th>\n",
       "      <th></th>\n",
       "      <th></th>\n",
       "      <th></th>\n",
       "      <th></th>\n",
       "      <th></th>\n",
       "      <th></th>\n",
       "      <th></th>\n",
       "      <th></th>\n",
       "    </tr>\n",
       "  </thead>\n",
       "  <tbody>\n",
       "    <tr>\n",
       "      <th>ZWE</th>\n",
       "      <th>NY.GDP.PCAP.CD</th>\n",
       "      <td>Zimbabwe</td>\n",
       "      <td>GDP per capita (current US$)</td>\n",
       "      <td>276.419784</td>\n",
       "      <td>279.016489</td>\n",
       "      <td>275.545608</td>\n",
       "      <td>277.005701</td>\n",
       "      <td>281.744539</td>\n",
       "      <td>294.145359</td>\n",
       "      <td>278.567519</td>\n",
       "      <td>294.210571</td>\n",
       "      <td>...</td>\n",
       "      <td>1386.418559</td>\n",
       "      <td>1407.420964</td>\n",
       "      <td>3448.086991</td>\n",
       "      <td>2271.852504</td>\n",
       "      <td>1683.913136</td>\n",
       "      <td>1730.453910</td>\n",
       "      <td>1724.387271</td>\n",
       "      <td>2040.546587</td>\n",
       "      <td>2156.034093</td>\n",
       "      <td>2656.409377</td>\n",
       "    </tr>\n",
       "    <tr>\n",
       "      <th>ZMB</th>\n",
       "      <th>NY.GDP.PCAP.CD</th>\n",
       "      <td>Zambia</td>\n",
       "      <td>GDP per capita (current US$)</td>\n",
       "      <td>221.559849</td>\n",
       "      <td>209.693206</td>\n",
       "      <td>202.281031</td>\n",
       "      <td>203.219451</td>\n",
       "      <td>229.979246</td>\n",
       "      <td>287.425476</td>\n",
       "      <td>325.025847</td>\n",
       "      <td>340.579940</td>\n",
       "      <td>...</td>\n",
       "      <td>1295.877887</td>\n",
       "      <td>1239.085279</td>\n",
       "      <td>1483.465773</td>\n",
       "      <td>1463.899979</td>\n",
       "      <td>1258.986198</td>\n",
       "      <td>951.644317</td>\n",
       "      <td>1127.160779</td>\n",
       "      <td>1447.123101</td>\n",
       "      <td>1330.727806</td>\n",
       "      <td>1235.084665</td>\n",
       "    </tr>\n",
       "    <tr>\n",
       "      <th>YEM</th>\n",
       "      <th>NY.GDP.PCAP.CD</th>\n",
       "      <td>Yemen, Rep.</td>\n",
       "      <td>GDP per capita (current US$)</td>\n",
       "      <td>NaN</td>\n",
       "      <td>NaN</td>\n",
       "      <td>NaN</td>\n",
       "      <td>NaN</td>\n",
       "      <td>NaN</td>\n",
       "      <td>NaN</td>\n",
       "      <td>NaN</td>\n",
       "      <td>NaN</td>\n",
       "      <td>...</td>\n",
       "      <td>1362.173812</td>\n",
       "      <td>975.359417</td>\n",
       "      <td>811.165970</td>\n",
       "      <td>633.887202</td>\n",
       "      <td>NaN</td>\n",
       "      <td>NaN</td>\n",
       "      <td>NaN</td>\n",
       "      <td>NaN</td>\n",
       "      <td>NaN</td>\n",
       "      <td>NaN</td>\n",
       "    </tr>\n",
       "    <tr>\n",
       "      <th>PSE</th>\n",
       "      <th>NY.GDP.PCAP.CD</th>\n",
       "      <td>West Bank and Gaza</td>\n",
       "      <td>GDP per capita (current US$)</td>\n",
       "      <td>NaN</td>\n",
       "      <td>NaN</td>\n",
       "      <td>NaN</td>\n",
       "      <td>NaN</td>\n",
       "      <td>NaN</td>\n",
       "      <td>NaN</td>\n",
       "      <td>NaN</td>\n",
       "      <td>NaN</td>\n",
       "      <td>...</td>\n",
       "      <td>3272.154324</td>\n",
       "      <td>3527.613824</td>\n",
       "      <td>3620.360487</td>\n",
       "      <td>3562.330943</td>\n",
       "      <td>3656.858271</td>\n",
       "      <td>3233.568638</td>\n",
       "      <td>3678.635657</td>\n",
       "      <td>3799.955270</td>\n",
       "      <td>3455.028529</td>\n",
       "      <td>2592.305912</td>\n",
       "    </tr>\n",
       "    <tr>\n",
       "      <th>VIR</th>\n",
       "      <th>NY.GDP.PCAP.CD</th>\n",
       "      <td>Virgin Islands (U.S.)</td>\n",
       "      <td>GDP per capita (current US$)</td>\n",
       "      <td>NaN</td>\n",
       "      <td>NaN</td>\n",
       "      <td>NaN</td>\n",
       "      <td>NaN</td>\n",
       "      <td>NaN</td>\n",
       "      <td>NaN</td>\n",
       "      <td>NaN</td>\n",
       "      <td>NaN</td>\n",
       "      <td>...</td>\n",
       "      <td>34007.352941</td>\n",
       "      <td>35324.974887</td>\n",
       "      <td>35365.069304</td>\n",
       "      <td>36663.208755</td>\n",
       "      <td>38633.529892</td>\n",
       "      <td>39787.374165</td>\n",
       "      <td>42571.077737</td>\n",
       "      <td>44320.909186</td>\n",
       "      <td>NaN</td>\n",
       "      <td>NaN</td>\n",
       "    </tr>\n",
       "  </tbody>\n",
       "</table>\n",
       "<p>5 rows × 67 columns</p>\n",
       "</div>"
      ],
      "text/plain": [
       "                                      Country                        Series  \\\n",
       "economy series                                                                \n",
       "ZWE     NY.GDP.PCAP.CD               Zimbabwe  GDP per capita (current US$)   \n",
       "ZMB     NY.GDP.PCAP.CD                 Zambia  GDP per capita (current US$)   \n",
       "YEM     NY.GDP.PCAP.CD            Yemen, Rep.  GDP per capita (current US$)   \n",
       "PSE     NY.GDP.PCAP.CD     West Bank and Gaza  GDP per capita (current US$)   \n",
       "VIR     NY.GDP.PCAP.CD  Virgin Islands (U.S.)  GDP per capita (current US$)   \n",
       "\n",
       "                            YR1960      YR1961      YR1962      YR1963  \\\n",
       "economy series                                                           \n",
       "ZWE     NY.GDP.PCAP.CD  276.419784  279.016489  275.545608  277.005701   \n",
       "ZMB     NY.GDP.PCAP.CD  221.559849  209.693206  202.281031  203.219451   \n",
       "YEM     NY.GDP.PCAP.CD         NaN         NaN         NaN         NaN   \n",
       "PSE     NY.GDP.PCAP.CD         NaN         NaN         NaN         NaN   \n",
       "VIR     NY.GDP.PCAP.CD         NaN         NaN         NaN         NaN   \n",
       "\n",
       "                            YR1964      YR1965      YR1966      YR1967  ...  \\\n",
       "economy series                                                          ...   \n",
       "ZWE     NY.GDP.PCAP.CD  281.744539  294.145359  278.567519  294.210571  ...   \n",
       "ZMB     NY.GDP.PCAP.CD  229.979246  287.425476  325.025847  340.579940  ...   \n",
       "YEM     NY.GDP.PCAP.CD         NaN         NaN         NaN         NaN  ...   \n",
       "PSE     NY.GDP.PCAP.CD         NaN         NaN         NaN         NaN  ...   \n",
       "VIR     NY.GDP.PCAP.CD         NaN         NaN         NaN         NaN  ...   \n",
       "\n",
       "                              YR2015        YR2016        YR2017  \\\n",
       "economy series                                                     \n",
       "ZWE     NY.GDP.PCAP.CD   1386.418559   1407.420964   3448.086991   \n",
       "ZMB     NY.GDP.PCAP.CD   1295.877887   1239.085279   1483.465773   \n",
       "YEM     NY.GDP.PCAP.CD   1362.173812    975.359417    811.165970   \n",
       "PSE     NY.GDP.PCAP.CD   3272.154324   3527.613824   3620.360487   \n",
       "VIR     NY.GDP.PCAP.CD  34007.352941  35324.974887  35365.069304   \n",
       "\n",
       "                              YR2018        YR2019        YR2020  \\\n",
       "economy series                                                     \n",
       "ZWE     NY.GDP.PCAP.CD   2271.852504   1683.913136   1730.453910   \n",
       "ZMB     NY.GDP.PCAP.CD   1463.899979   1258.986198    951.644317   \n",
       "YEM     NY.GDP.PCAP.CD    633.887202           NaN           NaN   \n",
       "PSE     NY.GDP.PCAP.CD   3562.330943   3656.858271   3233.568638   \n",
       "VIR     NY.GDP.PCAP.CD  36663.208755  38633.529892  39787.374165   \n",
       "\n",
       "                              YR2021        YR2022       YR2023       YR2024  \n",
       "economy series                                                                \n",
       "ZWE     NY.GDP.PCAP.CD   1724.387271   2040.546587  2156.034093  2656.409377  \n",
       "ZMB     NY.GDP.PCAP.CD   1127.160779   1447.123101  1330.727806  1235.084665  \n",
       "YEM     NY.GDP.PCAP.CD           NaN           NaN          NaN          NaN  \n",
       "PSE     NY.GDP.PCAP.CD   3678.635657   3799.955270  3455.028529  2592.305912  \n",
       "VIR     NY.GDP.PCAP.CD  42571.077737  44320.909186          NaN          NaN  \n",
       "\n",
       "[5 rows x 67 columns]"
      ]
     },
     "metadata": {},
     "output_type": "display_data"
    }
   ],
   "source": [
    "print(\"\\nRaw Data first 5 Rows\")\n",
    "display(df_raw.head())"
   ]
  },
  {
   "cell_type": "code",
   "execution_count": 46,
   "id": "084fceee",
   "metadata": {},
   "outputs": [],
   "source": [
    "df_cleaned = df_raw.reset_index()"
   ]
  },
  {
   "cell_type": "code",
   "execution_count": 47,
   "id": "c739aec6",
   "metadata": {},
   "outputs": [],
   "source": [
    "column_mapping = {\n",
    "    'economy': 'Country_Code',\n",
    "    'time': 'Year',\n",
    "    'EN.ATM.CO2E.PC': 'CO2_emissions_per_capita',\n",
    "    'NY.GDP.PCAP.CD': 'GDP_per_capita_USD'\n",
    "}"
   ]
  },
  {
   "cell_type": "code",
   "execution_count": 48,
   "id": "773efb39",
   "metadata": {},
   "outputs": [],
   "source": [
    "df_cleaned = df_cleaned.rename(columns=column_mapping)"
   ]
  },
  {
   "cell_type": "code",
   "execution_count": 60,
   "id": "3a81fa31",
   "metadata": {},
   "outputs": [],
   "source": [
    "df_cleaned = df_cleaned.rename(columns={'economy': 'Country_Code', 'time': 'Year'})"
   ]
  },
  {
   "cell_type": "code",
   "execution_count": 53,
   "id": "a87dfc78",
   "metadata": {},
   "outputs": [],
   "source": [
    "\n",
    "df_cleaned = df_cleaned.rename(columns={'economy': 'Country_Code'})"
   ]
  },
  {
   "cell_type": "code",
   "execution_count": 57,
   "id": "1af064eb",
   "metadata": {},
   "outputs": [],
   "source": [
    "df_countries = wb.economy.DataFrame(skipAggs=False)"
   ]
  },
  {
   "cell_type": "code",
   "execution_count": null,
   "id": "91a0ffd3",
   "metadata": {},
   "outputs": [],
   "source": [
    "# rename columns from country metadata\n",
    "df_countries = df_countries[['incomeLevel', 'region']].reset_index()\n",
    "df_countries = df_countries.rename(columns={'id': 'Country_Code', 'incomeLevel': 'Income_Level', 'region': 'Region'})"
   ]
  },
  {
   "cell_type": "code",
   "execution_count": null,
   "id": "6bacb1b3",
   "metadata": {},
   "outputs": [],
   "source": [
    "\n",
    "df_countries = wb.economy.DataFrame(skipAggs=False)"
   ]
  },
  {
   "cell_type": "code",
   "execution_count": 59,
   "id": "46c65c69",
   "metadata": {},
   "outputs": [],
   "source": [
    "# merge the fetched data with the country metadata\n",
    "df_final = pd.merge(df_cleaned, df_countries, on='Country_Code', how='left')"
   ]
  }
 ],
 "metadata": {
  "kernelspec": {
   "display_name": "Python 3",
   "language": "python",
   "name": "python3"
  },
  "language_info": {
   "codemirror_mode": {
    "name": "ipython",
    "version": 3
   },
   "file_extension": ".py",
   "mimetype": "text/x-python",
   "name": "python",
   "nbconvert_exporter": "python",
   "pygments_lexer": "ipython3",
   "version": "3.11.9"
  }
 },
 "nbformat": 4,
 "nbformat_minor": 5
}
