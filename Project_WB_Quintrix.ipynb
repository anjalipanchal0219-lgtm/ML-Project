{
  "nbformat": 4,
  "nbformat_minor": 0,
  "metadata": {
    "colab": {
      "provenance": []
    },
    "kernelspec": {
      "name": "python3",
      "display_name": "Python 3"
    },
    "language_info": {
      "name": "python"
    }
  },
  "cells": [
    {
      "cell_type": "markdown",
      "source": [
        "**Data** - World Development Indicators (WDI) collection from the World Bank, which contains economic, social, and environmental indicators for every country from 1960–2024."
      ],
      "metadata": {
        "id": "qj4VokVWqdkB"
      }
    },
    {
      "cell_type": "markdown",
      "source": [
        "**Problem Statement**\n",
        "\n",
        "Does economic growth necessarily lead to higher carbon emissions, or have developed nations succeeded in decoupling growth from environmental impact?\n",
        "\n",
        "**Goal:**\n",
        "\n",
        "Analyze the relationship between GDP growth and CO₂ emissions across income groups.\n",
        "\n",
        "Identify patterns showing whether wealthier nations emit less CO₂ per unit of economic output compared to developing economies.\n",
        "\n",
        "Predict future emission trends based on GDP growth using a machine learning model.\n",
        "\n",
        "Provide insights that can guide sustainable economic policies for developing countries.\n"
      ],
      "metadata": {
        "id": "EZuvUJZeqkSj"
      }
    },
    {
      "cell_type": "markdown",
      "source": [
        "# Phase 1"
      ],
      "metadata": {
        "id": "-GkHP37bqqW4"
      }
    },
    {
      "cell_type": "markdown",
      "source": [
        "Use world bank api to fetch data\n"
      ],
      "metadata": {
        "id": "u_BfvVlPq5th"
      }
    },
    {
      "cell_type": "markdown",
      "source": [
        "## Load and Clean Data\n",
        "\n",
        "Filter relevant indicators and countries.\n",
        "\n",
        "Handle missing or NaN values.\n",
        "\n",
        "Convert year columns to long format."
      ],
      "metadata": {
        "id": "TcMd7QTPrHYO"
      }
    },
    {
      "cell_type": "markdown",
      "source": [
        "Use a tokenizer to prepare text description input"
      ],
      "metadata": {
        "id": "U6JD7-T2tWuA"
      }
    },
    {
      "cell_type": "markdown",
      "source": [
        "Add PII identification layer"
      ],
      "metadata": {
        "id": "O4OyfflMrQk1"
      }
    },
    {
      "cell_type": "markdown",
      "source": [
        "##Merge Metadata\n",
        "\n",
        "Join with WDICountry to include region and income group.\n",
        "\n",
        "Join with WDISeries to get indicator definitions."
      ],
      "metadata": {
        "id": "9FQZRvmLrTJr"
      }
    },
    {
      "cell_type": "markdown",
      "source": [
        "###Text Summarization of Indicator Definitions\n",
        "\n",
        "Fine-tune a summarizer like t5-small or use pre-trained"
      ],
      "metadata": {
        "id": "Yz2KaTfHuABs"
      }
    },
    {
      "cell_type": "markdown",
      "source": [
        "##Perform Analysis\n",
        "\n",
        "Trend analysis - visualize change over time.\n",
        "\n",
        "Correlation analysis - identify relationships between indicators.\n",
        "\n",
        "Comparative analysis - group by region/income and compare averages.\n",
        "\n",
        "Regression - model relationship (e.g., CO₂ vs. GDP)."
      ],
      "metadata": {
        "id": "2mdmv9W7raFg"
      }
    },
    {
      "cell_type": "markdown",
      "source": [
        "##Visualize Insights\n",
        "\n",
        "Use line plots (time trends), scatter plots (correlation), bar charts (regional comparison).\n",
        "\n",
        "Highlight top 5 performing or worst regions."
      ],
      "metadata": {
        "id": "Kb4y6kA_rgEU"
      }
    },
    {
      "cell_type": "markdown",
      "source": [
        "##Forecasting Future CO₂\n",
        "\n",
        "Use a model like LSTM to forecast next 5 years of CO₂ emissions for a selected countries."
      ],
      "metadata": {
        "id": "fKqNbtZ8uOSF"
      }
    },
    {
      "cell_type": "markdown",
      "source": [
        "#Phase 2\n"
      ],
      "metadata": {
        "id": "Pf1FmFPhrkgc"
      }
    },
    {
      "cell_type": "markdown",
      "source": [
        "##Machine Learning (Prediction & Regression)\n",
        "\n",
        "Predict future values or relationships between indicators.\n",
        "\n",
        "Predict CO₂ emissions using GDP, energy use, and population data.\n",
        "\n",
        "Train a regression model with scikit-learn and upload it to Hugging Face Hub."
      ],
      "metadata": {
        "id": "xPH90ACorxxt"
      }
    },
    {
      "cell_type": "markdown",
      "source": [
        "### CO₂ Emission Predictor\n",
        "\n",
        "User inputs GDP per capita, energy use, and region.\n",
        "\n",
        "Model outputs predicted CO₂ emission per capita.\n",
        "\n",
        "Show visualization (bar/line chart)."
      ],
      "metadata": {
        "id": "RNTWdw4psyoU"
      }
    },
    {
      "cell_type": "markdown",
      "source": [
        "#Phase 3"
      ],
      "metadata": {
        "id": "R8WHjtRAsTeA"
      }
    },
    {
      "cell_type": "markdown",
      "source": [
        "##Tokenization Integration\n",
        "Embedding + Tokenizer Integration\n",
        "\n",
        "Use Hugging Face AutoTokenizer to tokenize country metadata or indicator text (from WDISeries.csv) and embed semantic meaning"
      ],
      "metadata": {
        "id": "sjI0V2_qtwsb"
      }
    },
    {
      "cell_type": "markdown",
      "source": [
        "##Combine Structured + Textual Data\n",
        "\n",
        "Try to combine numeric features (GDP, population) with textual descriptions (indicator notes) to create a hybrid model — structured + NLP embeddings"
      ],
      "metadata": {
        "id": "ixlyUfokvNFO"
      }
    },
    {
      "cell_type": "markdown",
      "source": [
        "##Use xgboost to train locally in Python.\n",
        "\n",
        "Wrap it into a Hugging Face transformers pipeline using AutoModel or Trainer.\n",
        "\n",
        "Push the trained model to Hugging Face Hub."
      ],
      "metadata": {
        "id": "eDIC-bZrr9nK"
      }
    },
    {
      "cell_type": "markdown",
      "source": [
        "### Uploading the model on hugging face hub\n",
        "Deploy model using higging face interface API on hugging face space"
      ],
      "metadata": {
        "id": "cHf3Y5EhsFcv"
      }
    },
    {
      "cell_type": "markdown",
      "source": [
        "### Documenting the project"
      ],
      "metadata": {
        "id": "Gs0soimKsNGr"
      }
    }
  ]
}